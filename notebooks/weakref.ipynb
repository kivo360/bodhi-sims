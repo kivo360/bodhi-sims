{
 "cells": [
  {
   "cell_type": "code",
   "execution_count": 3,
   "metadata": {},
   "outputs": [],
   "source": [
    "import weakref\n",
    "import sys"
   ]
  },
  {
   "cell_type": "code",
   "execution_count": 4,
   "metadata": {},
   "outputs": [
    {
     "name": "stdout",
     "output_type": "stream",
     "text": [
      "hello world\n"
     ]
    },
    {
     "data": {
      "text/plain": [
       "<__main__.Origin at 0x7f903f293d90>"
      ]
     },
     "execution_count": 4,
     "metadata": {},
     "output_type": "execute_result"
    }
   ],
   "source": [
    "import copy\n",
    "\n",
    "\n",
    "class Origin(object):\n",
    "    \"\"\"docstring for ClassName.\"\"\"\n",
    "    def __init__(self, arg):\n",
    "        super(Origin, self).__init__()\n",
    "        print(\"hello world\")\n",
    "        self.hello=arg\n",
    "        self.world = f\"{self.hello} world\"\n",
    "\n",
    "    \n",
    "origin = Origin(1)\n",
    "origin\n",
    "origin\n",
    "origin\n",
    "origin\n",
    "origin\n",
    "origin\n",
    "origin\n",
    "origin\n",
    "# copy.copy(origin)"
   ]
  },
  {
   "cell_type": "code",
   "execution_count": 5,
   "metadata": {},
   "outputs": [
    {
     "data": {
      "text/plain": [
       "<weakref at 0x7f903eac2840; to 'Origin' at 0x7f903f293d90>"
      ]
     },
     "execution_count": 5,
     "metadata": {},
     "output_type": "execute_result"
    }
   ],
   "source": [
    "sys.getrefcount(origin)\n",
    "# origin\n",
    "ref_copy = weakref.ref(origin)\n",
    "sys.getrefcount(ref_copy)\n",
    "ref_copy"
   ]
  },
  {
   "cell_type": "code",
   "execution_count": 6,
   "metadata": {},
   "outputs": [],
   "source": [
    "origin = None"
   ]
  },
  {
   "cell_type": "code",
   "execution_count": 9,
   "metadata": {},
   "outputs": [],
   "source": [
    "ref_copy()\n",
    "del origin\n"
   ]
  },
  {
   "cell_type": "code",
   "execution_count": 12,
   "metadata": {},
   "outputs": [
    {
     "data": {
      "text/plain": [
       "<__main__.Origin at 0x7f903f293d90>"
      ]
     },
     "execution_count": 12,
     "metadata": {},
     "output_type": "execute_result"
    }
   ],
   "source": [
    "ref_copy()"
   ]
  },
  {
   "cell_type": "code",
   "execution_count": null,
   "metadata": {},
   "outputs": [],
   "source": []
  }
 ],
 "metadata": {
  "kernelspec": {
   "display_name": "Python 3.10.5 ('py-svm-cJjjf-Eh-py3.10')",
   "language": "python",
   "name": "python3"
  },
  "language_info": {
   "codemirror_mode": {
    "name": "ipython",
    "version": 3
   },
   "file_extension": ".py",
   "mimetype": "text/x-python",
   "name": "python",
   "nbconvert_exporter": "python",
   "pygments_lexer": "ipython3",
   "version": "3.10.5"
  },
  "orig_nbformat": 4,
  "vscode": {
   "interpreter": {
    "hash": "fffdeec8c554fb03c25e0c6ab5c70e6ceb17aa4910c9c3d64428e304a6c617fc"
   }
  }
 },
 "nbformat": 4,
 "nbformat_minor": 2
}
